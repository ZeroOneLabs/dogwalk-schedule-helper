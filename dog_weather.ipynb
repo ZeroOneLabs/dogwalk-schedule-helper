{
 "cells": [
  {
   "cell_type": "code",
   "execution_count": 1,
   "metadata": {},
   "outputs": [],
   "source": [
    "import requests\n",
    "import json\n",
    "from datetime import datetime\n",
    "\n",
    "weather_url = \"https://home.openweathermap.org/\"\n",
    "\n",
    "import weather_secret\n",
    "weather_key = weather_secret.weather_key\n",
    "latitude = weather_secret.latitude\n",
    "longitude = weather_secret.longitude\n",
    "\n",
    "weather_api = f\"http://api.openweathermap.org/data/2.5/weather?lon={longitude}&lat={latitude}&APPID={weather_key}\"\n",
    "\n",
    "forecast_api = f\"http://api.openweathermap.org/data/2.5/forecast?lon={longitude}&lat={latitude}&APPID={weather_key}\"\n",
    "\n",
    "curfore_api = f\"https://api.openweathermap.org/data/2.5/onecall?lon={longitude}&lat={latitude}&exclude=daily,alerts&appid={weather_key}&units=imperial\"\n",
    "\n",
    "r = requests.get(curfore_api).json()\n"
   ]
  },
  {
   "cell_type": "code",
   "execution_count": 2,
   "metadata": {},
   "outputs": [
    {
     "name": "stdout",
     "output_type": "stream",
     "text": [
      "{\"lat\": 41.9634, \"lon\": -87.6657, \"timezone\": \"America/Chicago\", \"timezone_offset\": -18000, \"current\": {\"dt\": 1648883540, \"sunrise\": 1648899089, \"sunset\": 1648944995, \"temp\": 33.31, \"feels_like\": 28.98, \"pressure\": 1021, \"humidity\": 82, \"dew_point\": 28.85, \"uvi\": 0, \"clouds\": 40, \"visibility\": 10000, \"wind_speed\": 4.61, \"wind_deg\": 170, \"weather\": [{\"id\": 802, \"main\": \"Clouds\", \"description\": \"scattered clouds\", \"icon\": \"03n\"}]}, \"minutely\": [{\"dt\": 1648883580, \"precipitation\": 0}, {\"dt\": 1648883640, \"precipitation\": 0}, {\"dt\": 1648883700, \"precipitation\": 0}, {\"dt\": 1648883760, \"precipitation\": 0}, {\"dt\": 1648883820, \"precipitation\": 0}, {\"dt\": 1648883880, \"precipitation\": 0}, {\"dt\": 1648883940, \"precipitation\": 0}, {\"dt\": 1648884000, \"precipitation\": 0}, {\"dt\": 1648884060, \"precipitation\": 0}, {\"dt\": 1648884120, \"precipitation\": 0}, {\"dt\": 1648884180, \"precipitation\": 0}, {\"dt\": 1648884240, \"precipitation\": 0}, {\"dt\": 1648884300, \"precipitation\": 0}, {\"dt\": 1648884360, \"precipitation\": 0}, {\"dt\": 1648884420, \"precipitation\": 0}, {\"dt\": 1648884480, \"precipitation\": 0}, {\"dt\": 1648884540, \"precipitation\": 0}, {\"dt\": 1648884600, \"precipitation\": 0}, {\"dt\": 1648884660, \"precipitation\": 0}, {\"dt\": 1648884720, \"precipitation\": 0}, {\"dt\": 1648884780, \"precipitation\": 0}, {\"dt\": 1648884840, \"precipitation\": 0}, {\"dt\": 1648884900, \"precipitation\": 0}, {\"dt\": 1648884960, \"precipitation\": 0}, {\"dt\": 1648885020, \"precipitation\": 0}, {\"dt\": 1648885080, \"precipitation\": 0}, {\"dt\": 1648885140, \"precipitation\": 0}, {\"dt\": 1648885200, \"precipitation\": 0}, {\"dt\": 1648885260, \"precipitation\": 0}, {\"dt\": 1648885320, \"precipitation\": 0}, {\"dt\": 1648885380, \"precipitation\": 0}, {\"dt\": 1648885440, \"precipitation\": 0}, {\"dt\": 1648885500, \"precipitation\": 0}, {\"dt\": 1648885560, \"precipitation\": 0}, {\"dt\": 1648885620, \"precipitation\": 0}, {\"dt\": 1648885680, \"precipitation\": 0}, {\"dt\": 1648885740, \"precipitation\": 0}, {\"dt\": 1648885800, \"precipitation\": 0}, {\"dt\": 1648885860, \"precipitation\": 0}, {\"dt\": 1648885920, \"precipitation\": 0}, {\"dt\": 1648885980, \"precipitation\": 0}, {\"dt\": 1648886040, \"precipitation\": 0}, {\"dt\": 1648886100, \"precipitation\": 0}, {\"dt\": 1648886160, \"precipitation\": 0}, {\"dt\": 1648886220, \"precipitation\": 0}, {\"dt\": 1648886280, \"precipitation\": 0}, {\"dt\": 1648886340, \"precipitation\": 0}, {\"dt\": 1648886400, \"precipitation\": 0}, {\"dt\": 1648886460, \"precipitation\": 0}, {\"dt\": 1648886520, \"precipitation\": 0}, {\"dt\": 1648886580, \"precipitation\": 0}, {\"dt\": 1648886640, \"precipitation\": 0}, {\"dt\": 1648886700, \"precipitation\": 0}, {\"dt\": 1648886760, \"precipitation\": 0}, {\"dt\": 1648886820, \"precipitation\": 0}, {\"dt\": 1648886880, \"precipitation\": 0}, {\"dt\": 1648886940, \"precipitation\": 0}, {\"dt\": 1648887000, \"precipitation\": 0}, {\"dt\": 1648887060, \"precipitation\": 0}, {\"dt\": 1648887120, \"precipitation\": 0}, {\"dt\": 1648887180, \"precipitation\": 0}], \"hourly\": [{\"dt\": 1648882800, \"temp\": 33.31, \"feels_like\": 27.37, \"pressure\": 1021, \"humidity\": 82, \"dew_point\": 28.85, \"uvi\": 0, \"clouds\": 40, \"visibility\": 10000, \"wind_speed\": 6.58, \"wind_deg\": 160, \"wind_gust\": 10.4, \"weather\": [{\"id\": 802, \"main\": \"Clouds\", \"description\": \"scattered clouds\", \"icon\": \"03n\"}], \"pop\": 0}, {\"dt\": 1648886400, \"temp\": 33.84, \"feels_like\": 27.99, \"pressure\": 1021, \"humidity\": 79, \"dew_point\": 28.49, \"uvi\": 0, \"clouds\": 44, \"visibility\": 10000, \"wind_speed\": 6.6, \"wind_deg\": 185, \"wind_gust\": 13.6, \"weather\": [{\"id\": 802, \"main\": \"Clouds\", \"description\": \"scattered clouds\", \"icon\": \"03n\"}], \"pop\": 0}, {\"dt\": 1648890000, \"temp\": 34.23, \"feels_like\": 27.82, \"pressure\": 1020, \"humidity\": 77, \"dew_point\": 28.27, \"uvi\": 0, \"clouds\": 53, \"visibility\": 10000, \"wind_speed\": 7.56, \"wind_deg\": 178, \"wind_gust\": 16.49, \"weather\": [{\"id\": 803, \"main\": \"Clouds\", \"description\": \"broken clouds\", \"icon\": \"04n\"}], \"pop\": 0}, {\"dt\": 1648893600, \"temp\": 34.72, \"feels_like\": 28.8, \"pressure\": 1020, \"humidity\": 75, \"dew_point\": 28.13, \"uvi\": 0, \"clouds\": 64, \"visibility\": 10000, \"wind_speed\": 6.96, \"wind_deg\": 182, \"wind_gust\": 16.8, \"weather\": [{\"id\": 803, \"main\": \"Clouds\", \"description\": \"broken clouds\", \"icon\": \"04n\"}], \"pop\": 0}, {\"dt\": 1648897200, \"temp\": 35.02, \"feels_like\": 27.95, \"pressure\": 1019, \"humidity\": 74, \"dew_point\": 28.09, \"uvi\": 0, \"clouds\": 75, \"visibility\": 10000, \"wind_speed\": 9.06, \"wind_deg\": 163, \"wind_gust\": 19.35, \"weather\": [{\"id\": 803, \"main\": \"Clouds\", \"description\": \"broken clouds\", \"icon\": \"04n\"}], \"pop\": 0}, {\"dt\": 1648900800, \"temp\": 36.03, \"feels_like\": 28.8, \"pressure\": 1018, \"humidity\": 70, \"dew_point\": 27.14, \"uvi\": 0, \"clouds\": 86, \"visibility\": 10000, \"wind_speed\": 9.84, \"wind_deg\": 179, \"wind_gust\": 21.88, \"weather\": [{\"id\": 804, \"main\": \"Clouds\", \"description\": \"overcast clouds\", \"icon\": \"04d\"}], \"pop\": 0}, {\"dt\": 1648904400, \"temp\": 36.81, \"feels_like\": 29.34, \"pressure\": 1018, \"humidity\": 67, \"dew_point\": 26.89, \"uvi\": 0.31, \"clouds\": 100, \"visibility\": 10000, \"wind_speed\": 10.76, \"wind_deg\": 179, \"wind_gust\": 23.82, \"weather\": [{\"id\": 804, \"main\": \"Clouds\", \"description\": \"overcast clouds\", \"icon\": \"04d\"}], \"pop\": 0}, {\"dt\": 1648908000, \"temp\": 38.17, \"feels_like\": 30.52, \"pressure\": 1016, \"humidity\": 64, \"dew_point\": 26.83, \"uvi\": 0.87, \"clouds\": 100, \"visibility\": 10000, \"wind_speed\": 12.08, \"wind_deg\": 171, \"wind_gust\": 23.76, \"weather\": [{\"id\": 804, \"main\": \"Clouds\", \"description\": \"overcast clouds\", \"icon\": \"04d\"}], \"pop\": 0}, {\"dt\": 1648911600, \"temp\": 38.77, \"feels_like\": 31.1, \"pressure\": 1015, \"humidity\": 63, \"dew_point\": 27.32, \"uvi\": 1.68, \"clouds\": 100, \"visibility\": 10000, \"wind_speed\": 12.5, \"wind_deg\": 172, \"wind_gust\": 23.15, \"weather\": [{\"id\": 804, \"main\": \"Clouds\", \"description\": \"overcast clouds\", \"icon\": \"04d\"}], \"pop\": 0.02}, {\"dt\": 1648915200, \"temp\": 39.2, \"feels_like\": 31.8, \"pressure\": 1014, \"humidity\": 66, \"dew_point\": 28.65, \"uvi\": 0.83, \"clouds\": 100, \"visibility\": 10000, \"wind_speed\": 12.08, \"wind_deg\": 169, \"wind_gust\": 21.12, \"weather\": [{\"id\": 500, \"main\": \"Rain\", \"description\": \"light rain\", \"icon\": \"10d\"}], \"pop\": 0.36, \"rain\": {\"1h\": 0.13}}, {\"dt\": 1648918800, \"temp\": 38.14, \"feels_like\": 29.79, \"pressure\": 1012, \"humidity\": 81, \"dew_point\": 32.72, \"uvi\": 1.04, \"clouds\": 100, \"visibility\": 6530, \"wind_speed\": 14, \"wind_deg\": 172, \"wind_gust\": 25.34, \"weather\": [{\"id\": 501, \"main\": \"Rain\", \"description\": \"moderate rain\", \"icon\": \"10d\"}], \"pop\": 0.71, \"rain\": {\"1h\": 1.22}}, {\"dt\": 1648922400, \"temp\": 36.7, \"feels_like\": 28.67, \"pressure\": 1012, \"humidity\": 95, \"dew_point\": 35.19, \"uvi\": 1.11, \"clouds\": 100, \"visibility\": 809, \"wind_speed\": 12.03, \"wind_deg\": 185, \"wind_gust\": 28.19, \"weather\": [{\"id\": 501, \"main\": \"Rain\", \"description\": \"moderate rain\", \"icon\": \"10d\"}], \"pop\": 0.92, \"rain\": {\"1h\": 1.85}}, {\"dt\": 1648926000, \"temp\": 37.38, \"feels_like\": 29.44, \"pressure\": 1011, \"humidity\": 96, \"dew_point\": 36.21, \"uvi\": 0.33, \"clouds\": 100, \"visibility\": 819, \"wind_speed\": 12.28, \"wind_deg\": 199, \"wind_gust\": 29.75, \"weather\": [{\"id\": 501, \"main\": \"Rain\", \"description\": \"moderate rain\", \"icon\": \"10d\"}], \"pop\": 1, \"rain\": {\"1h\": 1.28}}, {\"dt\": 1648929600, \"temp\": 38.64, \"feels_like\": 31.51, \"pressure\": 1010, \"humidity\": 96, \"dew_point\": 37.58, \"uvi\": 0.25, \"clouds\": 100, \"visibility\": 3472, \"wind_speed\": 11.05, \"wind_deg\": 222, \"wind_gust\": 24.61, \"weather\": [{\"id\": 500, \"main\": \"Rain\", \"description\": \"light rain\", \"icon\": \"10d\"}], \"pop\": 1, \"rain\": {\"1h\": 0.37}}, {\"dt\": 1648933200, \"temp\": 38.89, \"feels_like\": 30.7, \"pressure\": 1010, \"humidity\": 96, \"dew_point\": 37.65, \"uvi\": 0.16, \"clouds\": 100, \"visibility\": 3548, \"wind_speed\": 14.09, \"wind_deg\": 266, \"wind_gust\": 24.43, \"weather\": [{\"id\": 500, \"main\": \"Rain\", \"description\": \"light rain\", \"icon\": \"10d\"}], \"pop\": 1, \"rain\": {\"1h\": 0.48}}, {\"dt\": 1648936800, \"temp\": 36.68, \"feels_like\": 27.05, \"pressure\": 1012, \"humidity\": 91, \"dew_point\": 34.3, \"uvi\": 0.32, \"clouds\": 100, \"visibility\": 10000, \"wind_speed\": 16.71, \"wind_deg\": 295, \"wind_gust\": 27.81, \"weather\": [{\"id\": 500, \"main\": \"Rain\", \"description\": \"light rain\", \"icon\": \"10d\"}], \"pop\": 1, \"rain\": {\"1h\": 0.1}}, {\"dt\": 1648940400, \"temp\": 36.73, \"feels_like\": 26.91, \"pressure\": 1012, \"humidity\": 85, \"dew_point\": 32.68, \"uvi\": 0.1, \"clouds\": 100, \"visibility\": 10000, \"wind_speed\": 17.43, \"wind_deg\": 304, \"wind_gust\": 28.7, \"weather\": [{\"id\": 804, \"main\": \"Clouds\", \"description\": \"overcast clouds\", \"icon\": \"04d\"}], \"pop\": 0.75}, {\"dt\": 1648944000, \"temp\": 36.46, \"feels_like\": 26.82, \"pressure\": 1013, \"humidity\": 85, \"dew_point\": 32.25, \"uvi\": 0, \"clouds\": 100, \"visibility\": 10000, \"wind_speed\": 16.53, \"wind_deg\": 305, \"wind_gust\": 28.3, \"weather\": [{\"id\": 804, \"main\": \"Clouds\", \"description\": \"overcast clouds\", \"icon\": \"04d\"}], \"pop\": 0.74}, {\"dt\": 1648947600, \"temp\": 36.64, \"feels_like\": 27.61, \"pressure\": 1015, \"humidity\": 84, \"dew_point\": 32.38, \"uvi\": 0, \"clouds\": 100, \"visibility\": 10000, \"wind_speed\": 14.76, \"wind_deg\": 304, \"wind_gust\": 26.89, \"weather\": [{\"id\": 804, \"main\": \"Clouds\", \"description\": \"overcast clouds\", \"icon\": \"04n\"}], \"pop\": 0.27}, {\"dt\": 1648951200, \"temp\": 37.17, \"feels_like\": 29.19, \"pressure\": 1015, \"humidity\": 83, \"dew_point\": 32.4, \"uvi\": 0, \"clouds\": 100, \"visibility\": 10000, \"wind_speed\": 12.21, \"wind_deg\": 307, \"wind_gust\": 26.22, \"weather\": [{\"id\": 804, \"main\": \"Clouds\", \"description\": \"overcast clouds\", \"icon\": \"04n\"}], \"pop\": 0.08}, {\"dt\": 1648954800, \"temp\": 36.93, \"feels_like\": 29.55, \"pressure\": 1015, \"humidity\": 84, \"dew_point\": 32.61, \"uvi\": 0, \"clouds\": 84, \"visibility\": 10000, \"wind_speed\": 10.63, \"wind_deg\": 290, \"wind_gust\": 24.07, \"weather\": [{\"id\": 803, \"main\": \"Clouds\", \"description\": \"broken clouds\", \"icon\": \"04n\"}], \"pop\": 0}, {\"dt\": 1648958400, \"temp\": 36.23, \"feels_like\": 29.03, \"pressure\": 1015, \"humidity\": 88, \"dew_point\": 32.97, \"uvi\": 0, \"clouds\": 73, \"visibility\": 10000, \"wind_speed\": 9.89, \"wind_deg\": 273, \"wind_gust\": 21.39, \"weather\": [{\"id\": 803, \"main\": \"Clouds\", \"description\": \"broken clouds\", \"icon\": \"04n\"}], \"pop\": 0}, {\"dt\": 1648962000, \"temp\": 35.19, \"feels_like\": 27.46, \"pressure\": 1015, \"humidity\": 92, \"dew_point\": 33.21, \"uvi\": 0, \"clouds\": 62, \"visibility\": 10000, \"wind_speed\": 10.45, \"wind_deg\": 262, \"wind_gust\": 21.9, \"weather\": [{\"id\": 803, \"main\": \"Clouds\", \"description\": \"broken clouds\", \"icon\": \"04n\"}], \"pop\": 0}, {\"dt\": 1648965600, \"temp\": 35.06, \"feels_like\": 27.57, \"pressure\": 1015, \"humidity\": 94, \"dew_point\": 33.33, \"uvi\": 0, \"clouds\": 57, \"visibility\": 10000, \"wind_speed\": 9.91, \"wind_deg\": 274, \"wind_gust\": 26.42, \"weather\": [{\"id\": 803, \"main\": \"Clouds\", \"description\": \"broken clouds\", \"icon\": \"04n\"}], \"pop\": 0}, {\"dt\": 1648969200, \"temp\": 35.53, \"feels_like\": 28.42, \"pressure\": 1015, \"humidity\": 93, \"dew_point\": 33.66, \"uvi\": 0, \"clouds\": 20, \"visibility\": 10000, \"wind_speed\": 9.35, \"wind_deg\": 274, \"wind_gust\": 23.09, \"weather\": [{\"id\": 801, \"main\": \"Clouds\", \"description\": \"few clouds\", \"icon\": \"02n\"}], \"pop\": 0}, {\"dt\": 1648972800, \"temp\": 35.06, \"feels_like\": 27.95, \"pressure\": 1016, \"humidity\": 93, \"dew_point\": 33.17, \"uvi\": 0, \"clouds\": 14, \"visibility\": 10000, \"wind_speed\": 9.15, \"wind_deg\": 288, \"wind_gust\": 21.16, \"weather\": [{\"id\": 801, \"main\": \"Clouds\", \"description\": \"few clouds\", \"icon\": \"02n\"}], \"pop\": 0}, {\"dt\": 1648976400, \"temp\": 34.23, \"feels_like\": 27.16, \"pressure\": 1016, \"humidity\": 93, \"dew_point\": 32.34, \"uvi\": 0, \"clouds\": 12, \"visibility\": 10000, \"wind_speed\": 8.7, \"wind_deg\": 298, \"wind_gust\": 19.89, \"weather\": [{\"id\": 801, \"main\": \"Clouds\", \"description\": \"few clouds\", \"icon\": \"02n\"}], \"pop\": 0}, {\"dt\": 1648980000, \"temp\": 33.44, \"feels_like\": 26.46, \"pressure\": 1017, \"humidity\": 96, \"dew_point\": 32.34, \"uvi\": 0, \"clouds\": 19, \"visibility\": 10000, \"wind_speed\": 8.25, \"wind_deg\": 309, \"wind_gust\": 17.27, \"weather\": [{\"id\": 801, \"main\": \"Clouds\", \"description\": \"few clouds\", \"icon\": \"02n\"}], \"pop\": 0}, {\"dt\": 1648983600, \"temp\": 34.03, \"feels_like\": 27.07, \"pressure\": 1017, \"humidity\": 93, \"dew_point\": 32.18, \"uvi\": 0, \"clouds\": 32, \"visibility\": 10000, \"wind_speed\": 8.43, \"wind_deg\": 316, \"wind_gust\": 14.29, \"weather\": [{\"id\": 802, \"main\": \"Clouds\", \"description\": \"scattered clouds\", \"icon\": \"03n\"}], \"pop\": 0}, {\"dt\": 1648987200, \"temp\": 34.41, \"feels_like\": 28.38, \"pressure\": 1018, \"humidity\": 91, \"dew_point\": 31.91, \"uvi\": 0, \"clouds\": 42, \"visibility\": 10000, \"wind_speed\": 7.05, \"wind_deg\": 309, \"wind_gust\": 13.27, \"weather\": [{\"id\": 802, \"main\": \"Clouds\", \"description\": \"scattered clouds\", \"icon\": \"03d\"}], \"pop\": 0}, {\"dt\": 1648990800, \"temp\": 35.42, \"feels_like\": 30.33, \"pressure\": 1018, \"humidity\": 86, \"dew_point\": 31.71, \"uvi\": 0.47, \"clouds\": 39, \"visibility\": 10000, \"wind_speed\": 5.97, \"wind_deg\": 302, \"wind_gust\": 10.89, \"weather\": [{\"id\": 802, \"main\": \"Clouds\", \"description\": \"scattered clouds\", \"icon\": \"03d\"}], \"pop\": 0}, {\"dt\": 1648994400, \"temp\": 37.51, \"feels_like\": 33.08, \"pressure\": 1018, \"humidity\": 79, \"dew_point\": 31.53, \"uvi\": 1.31, \"clouds\": 30, \"visibility\": 10000, \"wind_speed\": 5.59, \"wind_deg\": 308, \"wind_gust\": 8.48, \"weather\": [{\"id\": 802, \"main\": \"Clouds\", \"description\": \"scattered clouds\", \"icon\": \"03d\"}], \"pop\": 0}, {\"dt\": 1648998000, \"temp\": 39.54, \"feels_like\": 36.03, \"pressure\": 1019, \"humidity\": 72, \"dew_point\": 31.23, \"uvi\": 2.54, \"clouds\": 24, \"visibility\": 10000, \"wind_speed\": 4.88, \"wind_deg\": 311, \"wind_gust\": 7, \"weather\": [{\"id\": 801, \"main\": \"Clouds\", \"description\": \"few clouds\", \"icon\": \"02d\"}], \"pop\": 0}, {\"dt\": 1649001600, \"temp\": 41.54, \"feels_like\": 39.18, \"pressure\": 1019, \"humidity\": 66, \"dew_point\": 30.52, \"uvi\": 3.63, \"clouds\": 20, \"visibility\": 10000, \"wind_speed\": 3.91, \"wind_deg\": 312, \"wind_gust\": 6.15, \"weather\": [{\"id\": 801, \"main\": \"Clouds\", \"description\": \"few clouds\", \"icon\": \"02d\"}], \"pop\": 0}, {\"dt\": 1649005200, \"temp\": 43.45, \"feels_like\": 41.92, \"pressure\": 1018, \"humidity\": 60, \"dew_point\": 29.64, \"uvi\": 4.55, \"clouds\": 19, \"visibility\": 10000, \"wind_speed\": 3.33, \"wind_deg\": 345, \"wind_gust\": 6.04, \"weather\": [{\"id\": 801, \"main\": \"Clouds\", \"description\": \"few clouds\", \"icon\": \"02d\"}], \"pop\": 0}, {\"dt\": 1649008800, \"temp\": 44.53, \"feels_like\": 42.44, \"pressure\": 1017, \"humidity\": 57, \"dew_point\": 29.26, \"uvi\": 4.82, \"clouds\": 23, \"visibility\": 10000, \"wind_speed\": 4.14, \"wind_deg\": 42, \"wind_gust\": 6.49, \"weather\": [{\"id\": 801, \"main\": \"Clouds\", \"description\": \"few clouds\", \"icon\": \"02d\"}], \"pop\": 0}, {\"dt\": 1649012400, \"temp\": 45.45, \"feels_like\": 43.07, \"pressure\": 1017, \"humidity\": 55, \"dew_point\": 28.67, \"uvi\": 3.64, \"clouds\": 53, \"visibility\": 10000, \"wind_speed\": 4.72, \"wind_deg\": 64, \"wind_gust\": 7.43, \"weather\": [{\"id\": 803, \"main\": \"Clouds\", \"description\": \"broken clouds\", \"icon\": \"04d\"}], \"pop\": 0}, {\"dt\": 1649016000, \"temp\": 45.77, \"feels_like\": 43.34, \"pressure\": 1017, \"humidity\": 54, \"dew_point\": 28.29, \"uvi\": 2.77, \"clouds\": 76, \"visibility\": 10000, \"wind_speed\": 4.85, \"wind_deg\": 70, \"wind_gust\": 7.23, \"weather\": [{\"id\": 803, \"main\": \"Clouds\", \"description\": \"broken clouds\", \"icon\": \"04d\"}], \"pop\": 0}, {\"dt\": 1649019600, \"temp\": 44.44, \"feels_like\": 39.97, \"pressure\": 1016, \"humidity\": 58, \"dew_point\": 28.99, \"uvi\": 1.72, \"clouds\": 84, \"visibility\": 10000, \"wind_speed\": 8.05, \"wind_deg\": 83, \"wind_gust\": 8.81, \"weather\": [{\"id\": 803, \"main\": \"Clouds\", \"description\": \"broken clouds\", \"icon\": \"04d\"}], \"pop\": 0}, {\"dt\": 1649023200, \"temp\": 43.07, \"feels_like\": 37.94, \"pressure\": 1016, \"humidity\": 62, \"dew_point\": 29.82, \"uvi\": 0.32, \"clouds\": 88, \"visibility\": 10000, \"wind_speed\": 8.84, \"wind_deg\": 90, \"wind_gust\": 8.32, \"weather\": [{\"id\": 804, \"main\": \"Clouds\", \"description\": \"overcast clouds\", \"icon\": \"04d\"}], \"pop\": 0}, {\"dt\": 1649026800, \"temp\": 41.52, \"feels_like\": 36.36, \"pressure\": 1016, \"humidity\": 67, \"dew_point\": 30.69, \"uvi\": 0.1, \"clouds\": 90, \"visibility\": 10000, \"wind_speed\": 8.19, \"wind_deg\": 94, \"wind_gust\": 8.61, \"weather\": [{\"id\": 804, \"main\": \"Clouds\", \"description\": \"overcast clouds\", \"icon\": \"04d\"}], \"pop\": 0}, {\"dt\": 1649030400, \"temp\": 40.15, \"feels_like\": 36.16, \"pressure\": 1017, \"humidity\": 74, \"dew_point\": 32.45, \"uvi\": 0, \"clouds\": 91, \"visibility\": 10000, \"wind_speed\": 5.68, \"wind_deg\": 109, \"wind_gust\": 6.53, \"weather\": [{\"id\": 500, \"main\": \"Rain\", \"description\": \"light rain\", \"icon\": \"10d\"}], \"pop\": 0.36, \"rain\": {\"1h\": 0.34}}, {\"dt\": 1649034000, \"temp\": 39.18, \"feels_like\": 33.66, \"pressure\": 1017, \"humidity\": 81, \"dew_point\": 33.75, \"uvi\": 0, \"clouds\": 100, \"visibility\": 10000, \"wind_speed\": 7.9, \"wind_deg\": 100, \"wind_gust\": 8.48, \"weather\": [{\"id\": 500, \"main\": \"Rain\", \"description\": \"light rain\", \"icon\": \"10n\"}], \"pop\": 0.95, \"rain\": {\"1h\": 0.64}}, {\"dt\": 1649037600, \"temp\": 38.32, \"feels_like\": 31.93, \"pressure\": 1017, \"humidity\": 87, \"dew_point\": 34.74, \"uvi\": 0, \"clouds\": 100, \"visibility\": 10000, \"wind_speed\": 9.19, \"wind_deg\": 94, \"wind_gust\": 10.96, \"weather\": [{\"id\": 500, \"main\": \"Rain\", \"description\": \"light rain\", \"icon\": \"10n\"}], \"pop\": 0.96, \"rain\": {\"1h\": 0.94}}, {\"dt\": 1649041200, \"temp\": 37.9, \"feels_like\": 30.22, \"pressure\": 1015, \"humidity\": 91, \"dew_point\": 35.37, \"uvi\": 0, \"clouds\": 100, \"visibility\": 10000, \"wind_speed\": 11.97, \"wind_deg\": 91, \"wind_gust\": 15.9, \"weather\": [{\"id\": 501, \"main\": \"Rain\", \"description\": \"moderate rain\", \"icon\": \"10n\"}], \"pop\": 0.96, \"rain\": {\"1h\": 1.22}}, {\"dt\": 1649044800, \"temp\": 37.65, \"feels_like\": 29.35, \"pressure\": 1014, \"humidity\": 93, \"dew_point\": 35.64, \"uvi\": 0, \"clouds\": 100, \"visibility\": 10000, \"wind_speed\": 13.42, \"wind_deg\": 102, \"wind_gust\": 20.07, \"weather\": [{\"id\": 500, \"main\": \"Rain\", \"description\": \"light rain\", \"icon\": \"10n\"}], \"pop\": 0.99, \"rain\": {\"1h\": 0.99}}, {\"dt\": 1649048400, \"temp\": 37.76, \"feels_like\": 29.35, \"pressure\": 1013, \"humidity\": 94, \"dew_point\": 35.96, \"uvi\": 0, \"clouds\": 100, \"visibility\": 8292, \"wind_speed\": 13.82, \"wind_deg\": 111, \"wind_gust\": 24.58, \"weather\": [{\"id\": 501, \"main\": \"Rain\", \"description\": \"moderate rain\", \"icon\": \"10n\"}], \"pop\": 0.99, \"rain\": {\"1h\": 1.4}}, {\"dt\": 1649052000, \"temp\": 38.17, \"feels_like\": 29.52, \"pressure\": 1012, \"humidity\": 94, \"dew_point\": 36.63, \"uvi\": 0, \"clouds\": 100, \"visibility\": 10000, \"wind_speed\": 14.97, \"wind_deg\": 113, \"wind_gust\": 28.16, \"weather\": [{\"id\": 501, \"main\": \"Rain\", \"description\": \"moderate rain\", \"icon\": \"10n\"}], \"pop\": 0.99, \"rain\": {\"1h\": 1.48}}]}\n"
     ]
    }
   ],
   "source": [
    "print(json.dumps(r))\n",
    "\n"
   ]
  },
  {
   "cell_type": "code",
   "execution_count": 6,
   "metadata": {
    "tags": []
   },
   "outputs": [
    {
     "name": "stdout",
     "output_type": "stream",
     "text": [
      "Minute forecast @60m: No precipitation for the next hour\n",
      "\n",
      "Hourly forecast for the next 36 hours:\n",
      "02-28:\n",
      "  Morning walks:\n",
      "  6AM - No rain (29.41°)\n",
      "  7AM - No rain (29.71°)\n",
      "  8AM - No rain (31.6°)\n",
      "  9AM - No rain (33.24°)\n",
      "\n",
      "  Mid-day walks:\n",
      "  3PM - No rain\n",
      "  4PM - No rain\n",
      "  5PM - No rain\n",
      "  6PM - No rain\n",
      "\n",
      "  Night walks:\n",
      "  10PM - No rain\n",
      "  11PM - No rain\n",
      "\n",
      "03-01:\n",
      "  Morning walks:\n",
      "  6AM - No rain (33.57°)\n",
      "  7AM - No rain (33.84°)\n",
      "  8AM - No rain (34.61°)\n",
      "  9AM - No rain (35.82°)\n",
      "\n"
     ]
    }
   ],
   "source": [
    "\n",
    "minute_array = []\n",
    "for minute in r['minutely']:\n",
    "    if minute[\"precipitation\"] > 0:\n",
    "        ts = datetime.strftime(datetime.fromtimestamp(minute['dt']), \"%H:%M\")\n",
    "        pc = minute[\"precipitation\"]\n",
    "        minute_array.append({\"time\": ts, \"pct\": pc})\n",
    "\n",
    "if minute_array:\n",
    "    min_precip_start = minute_array[0]['time']\n",
    "    min_precip_start_pct = minute_array[0]['pct']\n",
    "    min_precip_ends = minute_array[-1]['time']\n",
    "    min_precip_ends_pct = minute_array[-1]['pct']\n",
    "    minute_forecast = f\"Rain may start around {min_precip_start} (@precip {min_precip_start_pct}%) and end around {min_precip_ends} (@precip {min_precip_ends_pct}%).\"\n",
    "else:\n",
    "    minute_forecast = \"No precipitation for the next hour\"\n",
    "\n",
    "print(f\"Minute forecast @60m: {minute_forecast}\\n\")\n",
    "\n",
    "print(\"Hourly forecast for the next 36 hours:\")\n",
    "#main list of days\n",
    "#each day has morning, midday, and night walks\n",
    "\n",
    "day_list = []\n",
    "day_dict = {}\n",
    "index = 0\n",
    "for hour in r['hourly']:\n",
    "    ts = int(datetime.strftime(datetime.fromtimestamp(hour['dt']), \"%H\"))\n",
    "    ts_full = datetime.strftime(datetime.fromtimestamp(hour['dt']), \"%a %m/%d %-I%p\")\n",
    "    ts_hour = datetime.strftime(datetime.fromtimestamp(hour['dt']), \"%-I%p\")\n",
    "    ds = datetime.strftime(datetime.fromtimestamp(hour['dt']), \"%m-%d\")\n",
    "    weather_main = hour['weather'][0]['main']\n",
    "    weather_desc = hour['weather'][0]['description']\n",
    "    weather_temp = hour['temp']\n",
    "    rain_prob_pct = float(hour['pop'])\n",
    "\n",
    "    # if not day_list:\n",
    "    #     day_list.append({ds: [{\"morning_walks\": []},{\"midday_walks\": []},{\"nightly_walks\": []}]})\n",
    "\n",
    "\n",
    "    if ds not in day_dict:\n",
    "        # print('Adding the following dictionary to the day_list: {ds: [{\"morning_walks\": []},{\"midday_walks\": []},{\"night_walks\": []}]}')\n",
    "        day_dict[ds] = [{\"morning_walks\": []},{\"midday_walks\": []},{\"night_walks\": []}]\n",
    "\n",
    "    if 6 <= ts <= 9:\n",
    "        if rain_prob_pct > 0.01:\n",
    "            phrase = f\"Chance of rain: {int(rain_prob_pct * 100)}%\"\n",
    "        else:\n",
    "            phrase = f\"No rain ({weather_temp}°)\"\n",
    "        entry = {'time': ts_hour, 'desc': phrase}\n",
    "        day_dict[ds][0]['morning_walks'].append(entry)\n",
    "\n",
    "    if 15 <= ts <= 18:\n",
    "        if rain_prob_pct > 0.01:\n",
    "            phrase = f\"Chance of rain: {int(rain_prob_pct * 100)}%\"\n",
    "        else:\n",
    "            phrase = \"No rain\"\n",
    "        entry = {'time': ts_hour, 'desc': phrase}\n",
    "        day_dict[ds][1]['midday_walks'].append(entry)\n",
    "\n",
    "    if 22 <= ts <= 24:\n",
    "        if rain_prob_pct > 0.01:\n",
    "            phrase = f\"Chance of rain: {int(rain_prob_pct * 100)}%\"\n",
    "        else:\n",
    "            phrase = \"No rain\"\n",
    "        entry = {'time': ts_hour, 'desc': phrase}\n",
    "        day_dict[ds][2]['night_walks'].append(entry)\n",
    "\n",
    "    index += 1\n",
    "\n",
    "    if index == 36:\n",
    "        break\n",
    "\n",
    "# print(json.dumps(day_dict))\n",
    "for day in day_dict.items():\n",
    "    print(f\"{day[0]}:\")\n",
    "\n",
    "    if day[1][0]['morning_walks']:\n",
    "        print(\"  Morning walks:\")\n",
    "        for i,walk in enumerate(day[1][0]['morning_walks']):\n",
    "            print(f\"  {day[1][0]['morning_walks'][i]['time']} - {day[1][0]['morning_walks'][i]['desc']}\")\n",
    "        print()\n",
    "\n",
    "    if day[1][1]['midday_walks']:\n",
    "        print(\"  Mid-day walks:\")\n",
    "        for i,walk in enumerate(day[1][1]['midday_walks']):\n",
    "            print(f\"  {day[1][1]['midday_walks'][i]['time']} - {day[1][1]['midday_walks'][i]['desc']}\")\n",
    "        print()\n",
    "\n",
    "    if day[1][2]['night_walks']:\n",
    "        print(\"  Night walks:\")\n",
    "        for i,walk in enumerate(day[1][2]['night_walks']):\n",
    "            print(f\"  {day[1][2]['night_walks'][i]['time']} - {day[1][2]['night_walks'][i]['desc']}\")\n",
    "        print()\n",
    "\n",
    "\n",
    "    # print(day[1][0]['morning_walks'])\n",
    "\n",
    "    # for hour in day[]:\n",
    "    #     print(f\"\\t{hour[0]['time']}: {hour[0]['desc']}\")\n",
    "    \n",
    "\n"
   ]
  },
  {
   "cell_type": "code",
   "execution_count": null,
   "metadata": {},
   "outputs": [],
   "source": []
  }
 ],
 "metadata": {
  "kernelspec": {
   "display_name": "Python 3",
   "language": "python",
   "name": "python3"
  },
  "language_info": {
   "codemirror_mode": {
    "name": "ipython",
    "version": 3
   },
   "file_extension": ".py",
   "mimetype": "text/x-python",
   "name": "python",
   "nbconvert_exporter": "python",
   "pygments_lexer": "ipython3",
   "version": "3.10.9 (main, Dec 15 2022, 10:44:50) [Clang 14.0.0 (clang-1400.0.29.202)]"
  },
  "orig_nbformat": 2,
  "vscode": {
   "interpreter": {
    "hash": "b0fa6594d8f4cbf19f97940f81e996739fb7646882a419484c72d19e05852a7e"
   }
  }
 },
 "nbformat": 4,
 "nbformat_minor": 2
}
